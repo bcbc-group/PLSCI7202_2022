{
 "cells": [
  {
   "cell_type": "markdown",
   "metadata": {},
   "source": [
    "Print function"
   ]
  },
  {
   "cell_type": "code",
   "execution_count": 1,
   "metadata": {},
   "outputs": [
    {
     "name": "stdout",
     "output_type": "stream",
     "text": [
      "Python is fun!\n"
     ]
    }
   ],
   "source": [
    "print(\"Python is fun!\")"
   ]
  },
  {
   "cell_type": "markdown",
   "metadata": {},
   "source": [
    "using variable"
   ]
  },
  {
   "cell_type": "code",
   "execution_count": 2,
   "metadata": {},
   "outputs": [
    {
     "name": "stdout",
     "output_type": "stream",
     "text": [
      "Python is fun!\n"
     ]
    }
   ],
   "source": [
    "message = \"Python is fun!\"\n",
    "print(message)"
   ]
  },
  {
   "cell_type": "markdown",
   "metadata": {},
   "source": [
    "Using the title method"
   ]
  },
  {
   "cell_type": "code",
   "execution_count": 3,
   "metadata": {},
   "outputs": [
    {
     "name": "stdout",
     "output_type": "stream",
     "text": [
      "Suzy Strickler\n"
     ]
    }
   ],
   "source": [
    "name = \"suzy strickler\"\n",
    "print(name.title())"
   ]
  },
  {
   "cell_type": "markdown",
   "metadata": {},
   "source": [
    "using variables in strings"
   ]
  },
  {
   "cell_type": "code",
   "execution_count": 4,
   "metadata": {},
   "outputs": [
    {
     "name": "stdout",
     "output_type": "stream",
     "text": [
      "suzy strickler\n"
     ]
    }
   ],
   "source": [
    "first_name = \"suzy\"\n",
    "last_name = \"strickler\"\n",
    "full_name = f\"{first_name} {last_name}\"\n",
    "print(full_name)"
   ]
  },
  {
   "cell_type": "code",
   "execution_count": 5,
   "metadata": {},
   "outputs": [
    {
     "name": "stdout",
     "output_type": "stream",
     "text": [
      "My name is Suzy Strickler!\n"
     ]
    }
   ],
   "source": [
    "print(f\"My name is {full_name.title()}!\")"
   ]
  },
  {
   "cell_type": "markdown",
   "metadata": {},
   "source": [
    "Manipulating Lists"
   ]
  },
  {
   "cell_type": "code",
   "execution_count": 6,
   "metadata": {},
   "outputs": [
    {
     "name": "stdout",
     "output_type": "stream",
     "text": [
      "['New York', 'Pennsylvania', 'Hawaii']\n"
     ]
    }
   ],
   "source": [
    "states = ['New York', 'Pennsylvania', 'Hawaii']\n",
    "print(states)"
   ]
  },
  {
   "cell_type": "code",
   "execution_count": 7,
   "metadata": {},
   "outputs": [
    {
     "name": "stdout",
     "output_type": "stream",
     "text": [
      "New York\n"
     ]
    }
   ],
   "source": [
    "print(states[0]) #access an element in a list"
   ]
  },
  {
   "cell_type": "code",
   "execution_count": 8,
   "metadata": {},
   "outputs": [
    {
     "name": "stdout",
     "output_type": "stream",
     "text": [
      "['Texas', 'Pennsylvania', 'Hawaii']\n"
     ]
    }
   ],
   "source": [
    "states[0] = 'Texas'  #change a list element\n",
    "print(states)"
   ]
  },
  {
   "cell_type": "code",
   "execution_count": 9,
   "metadata": {},
   "outputs": [
    {
     "name": "stdout",
     "output_type": "stream",
     "text": [
      "['Montana', 'Texas', 'Pennsylvania', 'Hawaii']\n"
     ]
    }
   ],
   "source": [
    "states.insert(0, 'Montana') #insert an element\n",
    "print(states)"
   ]
  },
  {
   "cell_type": "code",
   "execution_count": 10,
   "metadata": {},
   "outputs": [
    {
     "name": "stdout",
     "output_type": "stream",
     "text": [
      "Texas\n",
      "['Montana', 'Pennsylvania', 'Hawaii']\n"
     ]
    }
   ],
   "source": [
    "popped_states = states.pop(1) #remove an element\n",
    "print(popped_states)\n",
    "print(states)"
   ]
  },
  {
   "cell_type": "markdown",
   "metadata": {},
   "source": [
    "Loops"
   ]
  },
  {
   "cell_type": "code",
   "execution_count": 12,
   "metadata": {},
   "outputs": [
    {
     "name": "stdout",
     "output_type": "stream",
     "text": [
      "New York\n",
      "Pennsylvania\n",
      "Hawaii\n",
      "All states in list printed\n"
     ]
    }
   ],
   "source": [
    "states = ['New York', 'Pennsylvania', 'Hawaii']\n",
    "for state in states:\n",
    "    print(state)\n",
    "print(\"All states in list printed\")"
   ]
  },
  {
   "cell_type": "markdown",
   "metadata": {},
   "source": [
    "#Loops - if statements"
   ]
  },
  {
   "cell_type": "code",
   "execution_count": 13,
   "metadata": {},
   "outputs": [
    {
     "name": "stdout",
     "output_type": "stream",
     "text": [
      "New York\n",
      "Pennsylvania\n",
      "HAWAII\n"
     ]
    }
   ],
   "source": [
    "states = ['New York', 'Pennsylvania', 'Hawaii']\n",
    "for state in states:\n",
    "    if state == 'Hawaii':\n",
    "        print(state.upper())\n",
    "    elif state == 'Montana':\n",
    "        print(state.lower())\n",
    "    else: print(state.title())"
   ]
  },
  {
   "cell_type": "markdown",
   "metadata": {},
   "source": [
    "Dictionaries"
   ]
  },
  {
   "cell_type": "code",
   "execution_count": 15,
   "metadata": {},
   "outputs": [
    {
     "name": "stdout",
     "output_type": "stream",
     "text": [
      "blue\n"
     ]
    }
   ],
   "source": [
    "plants = {'color': 'blue', 'height': 10}\n",
    "print(plants['color'])"
   ]
  },
  {
   "cell_type": "code",
   "execution_count": 16,
   "metadata": {},
   "outputs": [
    {
     "name": "stdout",
     "output_type": "stream",
     "text": [
      "{'color': 'blue', 'height': 10, 'sepal': 3}\n"
     ]
    }
   ],
   "source": [
    "plants['sepal'] = 3  #add a new key-value pair\n",
    "print(plants)"
   ]
  },
  {
   "cell_type": "code",
   "execution_count": 17,
   "metadata": {},
   "outputs": [
    {
     "name": "stdout",
     "output_type": "stream",
     "text": [
      "{'height': 10, 'sepal': 3}\n"
     ]
    }
   ],
   "source": [
    "del plants['color']  #remove a key-value pair\n",
    "print(plants)"
   ]
  },
  {
   "cell_type": "markdown",
   "metadata": {},
   "source": [
    "Example of a function"
   ]
  },
  {
   "cell_type": "code",
   "execution_count": 18,
   "metadata": {},
   "outputs": [
    {
     "name": "stdout",
     "output_type": "stream",
     "text": [
      "How is the weather?rainy\n",
      "rainy\n"
     ]
    }
   ],
   "source": [
    "def weather():\n",
    "    \"\"\"Find out the weather\"\"\"\n",
    "    answer = input(\"How is the weather?\")\n",
    "    print(answer)\n",
    "weather()"
   ]
  },
  {
   "cell_type": "markdown",
   "metadata": {},
   "source": [
    "Read in a file"
   ]
  },
  {
   "cell_type": "code",
   "execution_count": 19,
   "metadata": {},
   "outputs": [],
   "source": [
    "fasta_file = open(\"/home/bioinfo/Data/sample1.fasta\", \"r\")\n",
    "if fasta_file.mode == \"r\":\n",
    "    contents = fasta_file.read()\n",
    "    outF = open(\"/home/bioinfo/Data/test_out.fasta\", \"w\")\n",
    "    outF.write(contents)\n",
    "fasta_file.close()\n",
    "outF.close()"
   ]
  }
 ],
 "metadata": {
  "kernelspec": {
   "display_name": "Python 3",
   "language": "python",
   "name": "python3"
  },
  "language_info": {
   "codemirror_mode": {
    "name": "ipython",
    "version": 3
   },
   "file_extension": ".py",
   "mimetype": "text/x-python",
   "name": "python",
   "nbconvert_exporter": "python",
   "pygments_lexer": "ipython3",
   "version": "3.8.3"
  }
 },
 "nbformat": 4,
 "nbformat_minor": 4
}
